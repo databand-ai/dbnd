{
 "cells": [
  {
   "cell_type": "markdown",
   "metadata": {},
   "source": [
    "databand.ai example notebook"
   ]
  },
  {
   "cell_type": "code",
   "execution_count": null,
   "metadata": {},
   "outputs": [],
   "source": [
    "import logging\n",
    "from random import shuffle\n",
    "\n",
    "from dbnd import output,parameter,PythonTask\n",
    "\n",
    "from dbnd_examples.data import data_repo\n",
    "from dbnd_examples.orchestration.examples.salad.salad_classes import Cut, PrepareSalad\n"
   ]
  },
  {
   "cell_type": "code",
   "execution_count": null,
   "metadata": {},
   "outputs": [],
   "source": [
    "salad = PrepareSalad(task_version=92)"
   ]
  },
  {
   "cell_type": "code",
   "execution_count": null,
   "metadata": {
    "scrolled": true
   },
   "outputs": [],
   "source": [
    "salad.dbnd_run()\n",
    "calculated_vegetables = salad.salad.read_df()"
   ]
  },
  {
   "cell_type": "code",
   "execution_count": null,
   "metadata": {
    "scrolled": true
   },
   "outputs": [],
   "source": [
    "cut = Cut(vegetables=data_repo.vegetables, task_version=14)\n",
    "cut.dbnd_run()\n"
   ]
  },
  {
   "cell_type": "code",
   "execution_count": null,
   "metadata": {},
   "outputs": [],
   "source": [
    "class CutAtNotebook(PythonTask):\n",
    "    vegetables = parameter.data\n",
    "    chopped_vegetables = output.csv.data\n",
    "\n",
    "    def run(self):\n",
    "        chopped = []\n",
    "\n",
    "        vegg = self.vegetables.readlines()\n",
    "        logging.info(\"Got {}. Start Chopping.\".format(\",\".join(vegg)).replace(\"\\n\", \"\"))\n",
    "\n",
    "        for line in vegg:\n",
    "            chopped.extend(list(line.rstrip()))\n",
    "        self.log_metric('chopped', len(chopped))\n",
    "\n",
    "        shuffle(chopped)\n",
    "\n",
    "        result = \"\".join(chopped)\n",
    "        logging.info(\"Chopped vegetables:\" + result)\n",
    "        self.chopped_vegetables.write(result)\n"
   ]
  },
  {
   "cell_type": "code",
   "execution_count": null,
   "metadata": {},
   "outputs": [],
   "source": [
    "cutN = CutAtNotebook(vegetables=data_repo.vegetables, task_version=16)\n",
    "cutN.dbnd_run()\n"
   ]
  },
  {
   "cell_type": "code",
   "execution_count": null,
   "metadata": {
    "scrolled": true
   },
   "outputs": [],
   "source": [
    "result = cutN.chopped_vegetables.read()"
   ]
  }
 ],
 "metadata": {
  "kernelspec": {
   "display_name": "Python 2",
   "language": "python",
   "name": "python2"
  },
  "language_info": {
   "codemirror_mode": {
    "name": "ipython",
    "version": 2
   },
   "file_extension": ".py",
   "mimetype": "text/x-python",
   "name": "python",
   "nbconvert_exporter": "python",
   "pygments_lexer": "ipython2",
   "version": "2.7.13"
  },
  "pycharm": {
   "stem_cell": {
    "cell_type": "raw",
    "source": [],
    "metadata": {
     "collapsed": false
    }
   }
  }
 },
 "nbformat": 4,
 "nbformat_minor": 2
}
