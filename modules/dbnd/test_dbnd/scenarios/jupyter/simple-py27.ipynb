{
 "cells": [
  {
   "cell_type": "code",
   "execution_count": null,
   "metadata": {
    "collapsed": true
   },
   "outputs": [],
   "source": [
    "import random\n",
    "\n",
    "magic = str(random.random())"
   ]
  },
  {
   "cell_type": "code",
   "execution_count": null,
   "metadata": {},
   "outputs": [],
   "source": [
    "# simple use case\n",
    "\n",
    "from databand.tasks.basics import SimplestTask\n",
    "\n",
    "t = SimplestTask(\n",
    "    simplest_param=magic,\n",
    "    task_version=magic\n",
    ")\n",
    "\n",
    "t.dbnd_run()\n",
    "\n",
    "assert t.simplest_output.readlines() == [magic]"
   ]
  },
  {
   "cell_type": "code",
   "execution_count": null,
   "metadata": {},
   "outputs": [],
   "source": [
    "# specifying inner parameters\n",
    "\n",
    "from databand.tasks.basics import SimplestPipeline\n",
    "\n",
    "magic2 = magic + \"2\"\n",
    "\n",
    "t = SimplestPipeline(\n",
    "    override={\n",
    "        SimplestTask.simplest_param: magic2,\n",
    "        SimplestTask.task_version: magic2,\n",
    "    }\n",
    ")\n",
    "\n",
    "t.dbnd_run()\n",
    "\n",
    "assert t.simplest_output.readlines() == [magic2]"
   ]
  }
 ],
 "metadata": {
  "kernelspec": {
   "display_name": "Python 2",
   "language": "python",
   "name": "python2"
  },
  "language_info": {
   "codemirror_mode": {
    "name": "ipython",
    "version": 2
   },
   "file_extension": ".py",
   "mimetype": "text/x-python",
   "name": "python",
   "nbconvert_exporter": "python",
   "pygments_lexer": "ipython2",
   "version": "2.7.6"
  },
  "pycharm": {
   "stem_cell": {
    "cell_type": "raw",
    "source": [],
    "metadata": {
     "collapsed": false
    }
   }
  }
 },
 "nbformat": 4,
 "nbformat_minor": 0
}
