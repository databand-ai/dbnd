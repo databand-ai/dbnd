{
 "cells": [
  {
   "cell_type": "code",
   "execution_count": null,
   "metadata": {},
   "outputs": [],
   "source": [
    "import random\n",
    "\n",
    "magic = str(random.random())"
   ]
  },
  {
   "cell_type": "code",
   "execution_count": null,
   "metadata": {},
   "outputs": [],
   "source": [
    "from databand.tasks.basics import SimplestTask\n",
    "\n",
    "t = SimplestTask(\n",
    "    simplest_param=magic,\n",
    "    task_version=magic\n",
    ")\n",
    "\n",
    "t.dbnd_run()\n",
    "\n",
    "assert t.simplest_output.readlines() == [magic]"
   ]
  },
  {
   "cell_type": "code",
   "execution_count": null,
   "metadata": {},
   "outputs": [],
   "source": [
    "from databand.tasks.basics import SimplestPipeline\n",
    "\n",
    "magic2 = magic + \"2\"\n",
    "\n",
    "t = SimplestPipeline(\n",
    "    override={\n",
    "        SimplestTask.simplest_param: magic2,\n",
    "        SimplestTask.task_version: magic2,\n",
    "    }\n",
    ")\n",
    "\n",
    "t.dbnd_run()\n",
    "\n",
    "assert t.simplest_output.readlines() == [magic2]"
   ]
  }
 ],
 "metadata": {
  "kernelspec": {
   "display_name": "Python 3",
   "language": "python",
   "name": "python3"
  },
  "language_info": {
   "codemirror_mode": {
    "name": "ipython",
    "version": 3
   },
   "file_extension": ".py",
   "mimetype": "text/x-python",
   "name": "python",
   "nbconvert_exporter": "python",
   "pygments_lexer": "ipython3",
   "version": "3.6.0"
  },
  "pycharm": {
   "stem_cell": {
    "cell_type": "raw",
    "source": [],
    "metadata": {
     "collapsed": false
    }
   }
  }
 },
 "nbformat": 4,
 "nbformat_minor": 0
}
